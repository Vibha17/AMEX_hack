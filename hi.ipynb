{
 "cells": [
  {
   "cell_type": "markdown",
   "id": "e7544dae",
   "metadata": {},
   "source": [
    "## Import library"
   ]
  },
  {
   "cell_type": "code",
   "execution_count": null,
   "id": "e418dc67",
   "metadata": {},
   "outputs": [],
   "source": [
    "import pandas as pd\n",
    "from IPython.display import display, HTML"
   ]
  },
  {
   "cell_type": "code",
   "execution_count": null,
   "id": "5f95eb1f",
   "metadata": {},
   "outputs": [],
   "source": [
    "f = open(\"loc.txt\")\n",
    "DATA_LOC = f.readline() + '/'\n",
    "f.close()"
   ]
  },
  {
   "cell_type": "markdown",
   "id": "11a30ae1",
   "metadata": {},
   "source": [
    "## Importing Data"
   ]
  },
  {
   "cell_type": "code",
   "execution_count": null,
   "id": "e6e7324d",
   "metadata": {},
   "outputs": [],
   "source": [
    "data_dict = pd.read_csv(DATA_LOC+\"data_dictionary.csv\")"
   ]
  },
  {
   "cell_type": "code",
   "execution_count": null,
   "id": "fd2cbeb7",
   "metadata": {},
   "outputs": [],
   "source": [
    "train_df = pd.read_parquet(DATA_LOC+\"train_data.parquet\", engine='auto')"
   ]
  },
  {
   "cell_type": "code",
   "execution_count": null,
   "id": "51f4f0bd",
   "metadata": {},
   "outputs": [],
   "source": [
    "test_df = pd.read_parquet(DATA_LOC+\"test_data.parquet\", engine='auto')"
   ]
  },
  {
   "cell_type": "markdown",
   "id": "531e74aa",
   "metadata": {},
   "source": [
    "## Exploring the data"
   ]
  },
  {
   "cell_type": "code",
   "execution_count": null,
   "id": "1807113f",
   "metadata": {},
   "outputs": [],
   "source": [
    "# display(HTML(data_dict.to_html()))\n",
    "data_dict"
   ]
  },
  {
   "cell_type": "code",
   "execution_count": null,
   "id": "8d5d3739",
   "metadata": {},
   "outputs": [],
   "source": [
    "train_df_description = train_df.describe()"
   ]
  },
  {
   "cell_type": "code",
   "execution_count": null,
   "id": "c407bed8",
   "metadata": {},
   "outputs": [],
   "source": [
    "# display(HTML(train_df_description.to_html()))\n",
    "train_df_description"
   ]
  },
  {
   "cell_type": "code",
   "execution_count": null,
   "id": "dfe5da79",
   "metadata": {},
   "outputs": [],
   "source": [
    "test_df_description = test_df.describe()\n",
    "test_df"
   ]
  },
  {
   "cell_type": "code",
   "execution_count": null,
   "id": "1c9ce8e4",
   "metadata": {},
   "outputs": [],
   "source": [
    "# display(HTML(test_df_description.to_html()))\n",
    "# display(HTML(train_df_description.to_html()))\n",
    "# test_df_description"
   ]
  }
 ],
 "metadata": {
  "kernelspec": {
   "display_name": "Python 3",
   "language": "python",
   "name": "python3"
  },
  "language_info": {
   "codemirror_mode": {
    "name": "ipython",
    "version": 3
   },
   "file_extension": ".py",
   "mimetype": "text/x-python",
   "name": "python",
   "nbconvert_exporter": "python",
   "pygments_lexer": "ipython3",
   "version": "3.12.3"
  }
 },
 "nbformat": 4,
 "nbformat_minor": 5
}
